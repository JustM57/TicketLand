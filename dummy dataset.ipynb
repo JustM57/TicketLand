{
 "cells": [
  {
   "cell_type": "code",
   "execution_count": 9,
   "metadata": {},
   "outputs": [],
   "source": [
    "import pandas as pd\n",
    "import numpy as np\n",
    "import scipy\n",
    "from sklearn.metrics import log_loss\n",
    "from sklearn.preprocessing import StandardScaler\n",
    "from sklearn.preprocessing import OneHotEncoder\n",
    "from sklearn.model_selection import StratifiedKFold\n",
    "from sklearn.linear_model import LogisticRegression\n",
    "from sklearn.metrics import accuracy_score"
   ]
  },
  {
   "cell_type": "code",
   "execution_count": 2,
   "metadata": {},
   "outputs": [
    {
     "data": {
      "text/html": [
       "<div>\n",
       "<style>\n",
       "    .dataframe thead tr:only-child th {\n",
       "        text-align: right;\n",
       "    }\n",
       "\n",
       "    .dataframe thead th {\n",
       "        text-align: left;\n",
       "    }\n",
       "\n",
       "    .dataframe tbody tr th {\n",
       "        vertical-align: top;\n",
       "    }\n",
       "</style>\n",
       "<table border=\"1\" class=\"dataframe\">\n",
       "  <thead>\n",
       "    <tr style=\"text-align: right;\">\n",
       "      <th></th>\n",
       "      <th>rank</th>\n",
       "      <th>event_datetime_m</th>\n",
       "      <th>is_clicked</th>\n",
       "      <th>id_show</th>\n",
       "      <th>id_user</th>\n",
       "      <th>dayofweek</th>\n",
       "      <th>hour</th>\n",
       "      <th>month</th>\n",
       "      <th>day</th>\n",
       "      <th>daymonth</th>\n",
       "    </tr>\n",
       "  </thead>\n",
       "  <tbody>\n",
       "    <tr>\n",
       "      <th>0</th>\n",
       "      <td>1</td>\n",
       "      <td>2017-01-12 12:30:00</td>\n",
       "      <td>0.0</td>\n",
       "      <td>5547</td>\n",
       "      <td>906335</td>\n",
       "      <td>4</td>\n",
       "      <td>12</td>\n",
       "      <td>1</td>\n",
       "      <td>12</td>\n",
       "      <td>43</td>\n",
       "    </tr>\n",
       "    <tr>\n",
       "      <th>1</th>\n",
       "      <td>3</td>\n",
       "      <td>2017-01-12 14:53:00</td>\n",
       "      <td>0.0</td>\n",
       "      <td>5547</td>\n",
       "      <td>5038628</td>\n",
       "      <td>4</td>\n",
       "      <td>14</td>\n",
       "      <td>1</td>\n",
       "      <td>12</td>\n",
       "      <td>43</td>\n",
       "    </tr>\n",
       "    <tr>\n",
       "      <th>2</th>\n",
       "      <td>4</td>\n",
       "      <td>2017-01-12 17:10:00</td>\n",
       "      <td>0.0</td>\n",
       "      <td>8148</td>\n",
       "      <td>5038628</td>\n",
       "      <td>4</td>\n",
       "      <td>17</td>\n",
       "      <td>1</td>\n",
       "      <td>12</td>\n",
       "      <td>43</td>\n",
       "    </tr>\n",
       "    <tr>\n",
       "      <th>3</th>\n",
       "      <td>2</td>\n",
       "      <td>2017-01-12 14:48:00</td>\n",
       "      <td>0.0</td>\n",
       "      <td>8131</td>\n",
       "      <td>5038628</td>\n",
       "      <td>4</td>\n",
       "      <td>14</td>\n",
       "      <td>1</td>\n",
       "      <td>12</td>\n",
       "      <td>43</td>\n",
       "    </tr>\n",
       "    <tr>\n",
       "      <th>4</th>\n",
       "      <td>1</td>\n",
       "      <td>2017-01-12 14:58:00</td>\n",
       "      <td>0.0</td>\n",
       "      <td>8367</td>\n",
       "      <td>5038628</td>\n",
       "      <td>4</td>\n",
       "      <td>14</td>\n",
       "      <td>1</td>\n",
       "      <td>12</td>\n",
       "      <td>43</td>\n",
       "    </tr>\n",
       "  </tbody>\n",
       "</table>\n",
       "</div>"
      ],
      "text/plain": [
       "   rank    event_datetime_m  is_clicked  id_show  id_user  dayofweek  hour  \\\n",
       "0     1 2017-01-12 12:30:00         0.0     5547   906335          4    12   \n",
       "1     3 2017-01-12 14:53:00         0.0     5547  5038628          4    14   \n",
       "2     4 2017-01-12 17:10:00         0.0     8148  5038628          4    17   \n",
       "3     2 2017-01-12 14:48:00         0.0     8131  5038628          4    14   \n",
       "4     1 2017-01-12 14:58:00         0.0     8367  5038628          4    14   \n",
       "\n",
       "   month  day  daymonth  \n",
       "0      1   12        43  \n",
       "1      1   12        43  \n",
       "2      1   12        43  \n",
       "3      1   12        43  \n",
       "4      1   12        43  "
      ]
     },
     "execution_count": 2,
     "metadata": {},
     "output_type": "execute_result"
    }
   ],
   "source": [
    "df = pd.read_csv(\"impressions.сsv\")\n",
    "df['event_datetime_m'] = pd.to_datetime(df.event_datetime_m, yearfirst = True)\n",
    "df['dayofweek'] = [d.isoweekday() for d in df.event_datetime_m]\n",
    "df['hour'] = [d.hour for d in df.event_datetime_m]\n",
    "df['month'] = [d.month for d in df.event_datetime_m]\n",
    "df['day'] = [d.day for d in df.event_datetime_m]\n",
    "df['daymonth'] = 31*df.month + df.day\n",
    "df.head()"
   ]
  },
  {
   "cell_type": "code",
   "execution_count": 3,
   "metadata": {},
   "outputs": [
    {
     "data": {
      "text/html": [
       "<div>\n",
       "<style>\n",
       "    .dataframe thead tr:only-child th {\n",
       "        text-align: right;\n",
       "    }\n",
       "\n",
       "    .dataframe thead th {\n",
       "        text-align: left;\n",
       "    }\n",
       "\n",
       "    .dataframe tbody tr th {\n",
       "        vertical-align: top;\n",
       "    }\n",
       "</style>\n",
       "<table border=\"1\" class=\"dataframe\">\n",
       "  <thead>\n",
       "    <tr style=\"text-align: right;\">\n",
       "      <th></th>\n",
       "      <th>rank</th>\n",
       "      <th>id_show</th>\n",
       "      <th>id_user</th>\n",
       "      <th>dayofweek</th>\n",
       "      <th>hour</th>\n",
       "      <th>daymonth</th>\n",
       "    </tr>\n",
       "  </thead>\n",
       "  <tbody>\n",
       "    <tr>\n",
       "      <th>0</th>\n",
       "      <td>1</td>\n",
       "      <td>5547</td>\n",
       "      <td>906335</td>\n",
       "      <td>4</td>\n",
       "      <td>12</td>\n",
       "      <td>43</td>\n",
       "    </tr>\n",
       "    <tr>\n",
       "      <th>1</th>\n",
       "      <td>3</td>\n",
       "      <td>5547</td>\n",
       "      <td>5038628</td>\n",
       "      <td>4</td>\n",
       "      <td>14</td>\n",
       "      <td>43</td>\n",
       "    </tr>\n",
       "    <tr>\n",
       "      <th>2</th>\n",
       "      <td>4</td>\n",
       "      <td>8148</td>\n",
       "      <td>5038628</td>\n",
       "      <td>4</td>\n",
       "      <td>17</td>\n",
       "      <td>43</td>\n",
       "    </tr>\n",
       "    <tr>\n",
       "      <th>3</th>\n",
       "      <td>2</td>\n",
       "      <td>8131</td>\n",
       "      <td>5038628</td>\n",
       "      <td>4</td>\n",
       "      <td>14</td>\n",
       "      <td>43</td>\n",
       "    </tr>\n",
       "    <tr>\n",
       "      <th>4</th>\n",
       "      <td>1</td>\n",
       "      <td>8367</td>\n",
       "      <td>5038628</td>\n",
       "      <td>4</td>\n",
       "      <td>14</td>\n",
       "      <td>43</td>\n",
       "    </tr>\n",
       "  </tbody>\n",
       "</table>\n",
       "</div>"
      ],
      "text/plain": [
       "   rank  id_show  id_user  dayofweek  hour  daymonth\n",
       "0     1     5547   906335          4    12        43\n",
       "1     3     5547  5038628          4    14        43\n",
       "2     4     8148  5038628          4    17        43\n",
       "3     2     8131  5038628          4    14        43\n",
       "4     1     8367  5038628          4    14        43"
      ]
     },
     "execution_count": 3,
     "metadata": {},
     "output_type": "execute_result"
    }
   ],
   "source": [
    "df = df.drop(['event_datetime_m', 'month', 'day'], axis = 1)\n",
    "train_df = df[df.daymonth < 117]\n",
    "test_df = df[df.daymonth > 116]\n",
    "y_train = train_df.is_clicked\n",
    "X_train = train_df.drop(['is_clicked'], axis = 1)\n",
    "y_valid = test_df.is_clicked\n",
    "X_valid = test_df.drop(['is_clicked'], axis = 1)\n",
    "X_train.head()"
   ]
  },
  {
   "cell_type": "code",
   "execution_count": 4,
   "metadata": {},
   "outputs": [],
   "source": [
    "scaler = StandardScaler()\n",
    "std_features = ['daymonth', 'rank']\n",
    "train_std = scaler.fit_transform(X_train[std_features])\n",
    "valid_std = scaler.transform(X_valid[std_features])\n",
    "onehot = OneHotEncoder(handle_unknown = 'ignore')\n",
    "onehot_features = ['dayofweek', 'hour', 'id_user', 'id_show']\n",
    "train_onehot = onehot.fit_transform(X_train[onehot_features])\n",
    "valid_onehot = onehot.transform(X_valid[onehot_features])"
   ]
  },
  {
   "cell_type": "code",
   "execution_count": 5,
   "metadata": {},
   "outputs": [],
   "source": [
    "X_train_new = scipy.sparse.hstack([train_std, train_onehot])\n",
    "X_valid_new = scipy.sparse.hstack([valid_std, valid_onehot])"
   ]
  },
  {
   "cell_type": "code",
   "execution_count": 7,
   "metadata": {},
   "outputs": [
    {
     "data": {
      "text/plain": [
       "(4242567, 478764)"
      ]
     },
     "execution_count": 7,
     "metadata": {},
     "output_type": "execute_result"
    }
   ],
   "source": [
    "skf = StratifiedKFold(n_splits = 5, random_state = 57, shuffle = False)\n",
    "X_train_new.shape"
   ]
  },
  {
   "cell_type": "code",
   "execution_count": 11,
   "metadata": {},
   "outputs": [
    {
     "name": "stdout",
     "output_type": "stream",
     "text": [
      "6.22188365745\n"
     ]
    },
    {
     "ename": "NameError",
     "evalue": "name 'accuraxy_score' is not defined",
     "output_type": "error",
     "traceback": [
      "\u001b[0;31m---------------------------------------------------------------------------\u001b[0m",
      "\u001b[0;31mNameError\u001b[0m                                 Traceback (most recent call last)",
      "\u001b[0;32m<timed exec>\u001b[0m in \u001b[0;36m<module>\u001b[0;34m()\u001b[0m\n",
      "\u001b[0;31mNameError\u001b[0m: name 'accuraxy_score' is not defined"
     ]
    }
   ],
   "source": [
    "%%time\n",
    "lr = LogisticRegression(C = 0.01, random_state = 57)\n",
    "lr.fit(X_train_new, y_train)\n",
    "pred = lr.predict(X_valid_new)\n",
    "print(log_loss(pred, y_valid))\n",
    "print(accuracy_score(pred, y_valid))"
   ]
  },
  {
   "cell_type": "code",
   "execution_count": 12,
   "metadata": {},
   "outputs": [
    {
     "name": "stdout",
     "output_type": "stream",
     "text": [
      "0.819862035285\n"
     ]
    }
   ],
   "source": [
    "%%time\n",
    "lr = LogisticRegression(C = 0.01, random_state = 57)\n",
    "lr.fit(X_train_new, y_train)\n",
    "pred = lr.predict(X_valid_new)\n",
    "print(log_loss(pred, y_valid))\n",
    "print(accuracy_score(pred, y_valid))"
   ]
  },
  {
   "cell_type": "code",
   "execution_count": 13,
   "metadata": {},
   "outputs": [
    {
     "name": "stderr",
     "output_type": "stream",
     "text": [
      "/usr/local/lib/python3.5/dist-packages/numpy/lib/arraysetops.py:463: FutureWarning: elementwise comparison failed; returning scalar instead, but in the future will perform elementwise comparison\n",
      "  mask |= (ar1 == a)\n"
     ]
    },
    {
     "data": {
      "text/html": [
       "<div>\n",
       "<style>\n",
       "    .dataframe thead tr:only-child th {\n",
       "        text-align: right;\n",
       "    }\n",
       "\n",
       "    .dataframe thead th {\n",
       "        text-align: left;\n",
       "    }\n",
       "\n",
       "    .dataframe tbody tr th {\n",
       "        vertical-align: top;\n",
       "    }\n",
       "</style>\n",
       "<table border=\"1\" class=\"dataframe\">\n",
       "  <thead>\n",
       "    <tr style=\"text-align: right;\">\n",
       "      <th></th>\n",
       "      <th>rank</th>\n",
       "      <th>event_datetime_m</th>\n",
       "      <th>id_show</th>\n",
       "      <th>id_user</th>\n",
       "      <th>dayofweek</th>\n",
       "      <th>hour</th>\n",
       "      <th>month</th>\n",
       "      <th>day</th>\n",
       "      <th>daymonth</th>\n",
       "    </tr>\n",
       "    <tr>\n",
       "      <th>id</th>\n",
       "      <th></th>\n",
       "      <th></th>\n",
       "      <th></th>\n",
       "      <th></th>\n",
       "      <th></th>\n",
       "      <th></th>\n",
       "      <th></th>\n",
       "      <th></th>\n",
       "      <th></th>\n",
       "    </tr>\n",
       "  </thead>\n",
       "  <tbody>\n",
       "    <tr>\n",
       "      <th>0</th>\n",
       "      <td>2</td>\n",
       "      <td>2017-04-12 23:03:00</td>\n",
       "      <td>22286</td>\n",
       "      <td>6235895</td>\n",
       "      <td>3</td>\n",
       "      <td>23</td>\n",
       "      <td>4</td>\n",
       "      <td>12</td>\n",
       "      <td>136</td>\n",
       "    </tr>\n",
       "    <tr>\n",
       "      <th>1</th>\n",
       "      <td>4</td>\n",
       "      <td>2017-04-12 21:58:00</td>\n",
       "      <td>22286</td>\n",
       "      <td>6235895</td>\n",
       "      <td>3</td>\n",
       "      <td>21</td>\n",
       "      <td>4</td>\n",
       "      <td>12</td>\n",
       "      <td>136</td>\n",
       "    </tr>\n",
       "    <tr>\n",
       "      <th>2</th>\n",
       "      <td>4</td>\n",
       "      <td>2017-04-12 22:02:00</td>\n",
       "      <td>22286</td>\n",
       "      <td>6235895</td>\n",
       "      <td>3</td>\n",
       "      <td>22</td>\n",
       "      <td>4</td>\n",
       "      <td>12</td>\n",
       "      <td>136</td>\n",
       "    </tr>\n",
       "    <tr>\n",
       "      <th>3</th>\n",
       "      <td>2</td>\n",
       "      <td>2017-04-12 22:54:00</td>\n",
       "      <td>22286</td>\n",
       "      <td>6235895</td>\n",
       "      <td>3</td>\n",
       "      <td>22</td>\n",
       "      <td>4</td>\n",
       "      <td>12</td>\n",
       "      <td>136</td>\n",
       "    </tr>\n",
       "    <tr>\n",
       "      <th>4</th>\n",
       "      <td>3</td>\n",
       "      <td>2017-04-12 22:02:00</td>\n",
       "      <td>15994</td>\n",
       "      <td>6235895</td>\n",
       "      <td>3</td>\n",
       "      <td>22</td>\n",
       "      <td>4</td>\n",
       "      <td>12</td>\n",
       "      <td>136</td>\n",
       "    </tr>\n",
       "  </tbody>\n",
       "</table>\n",
       "</div>"
      ],
      "text/plain": [
       "    rank    event_datetime_m  id_show  id_user  dayofweek  hour  month  day  \\\n",
       "id                                                                            \n",
       "0      2 2017-04-12 23:03:00    22286  6235895          3    23      4   12   \n",
       "1      4 2017-04-12 21:58:00    22286  6235895          3    21      4   12   \n",
       "2      4 2017-04-12 22:02:00    22286  6235895          3    22      4   12   \n",
       "3      2 2017-04-12 22:54:00    22286  6235895          3    22      4   12   \n",
       "4      3 2017-04-12 22:02:00    15994  6235895          3    22      4   12   \n",
       "\n",
       "    daymonth  \n",
       "id            \n",
       "0        136  \n",
       "1        136  \n",
       "2        136  \n",
       "3        136  \n",
       "4        136  "
      ]
     },
     "execution_count": 13,
     "metadata": {},
     "output_type": "execute_result"
    }
   ],
   "source": [
    "tdf = pd.read_csv('test.csv', index_col=\"id\")\n",
    "tdf['event_datetime_m'] = pd.to_datetime(tdf.event_datetime_m, yearfirst = True)\n",
    "tdf['dayofweek'] = [d.isoweekday() for d in tdf.event_datetime_m]\n",
    "tdf['hour'] = [d.hour for d in tdf.event_datetime_m]\n",
    "tdf['month'] = [d.month for d in tdf.event_datetime_m]\n",
    "tdf['day'] = [d.day for d in tdf.event_datetime_m]\n",
    "tdf['daymonth'] = 31*tdf.month + tdf.day\n",
    "tdf.head()"
   ]
  },
  {
   "cell_type": "code",
   "execution_count": 20,
   "metadata": {},
   "outputs": [],
   "source": [
    "y_train = df.is_clicked\n",
    "X_train = df.drop(['is_clicked'], axis = 1)\n",
    "X_test = tdf.drop(['event_datetime_m', 'month', 'day'], axis = 1)"
   ]
  },
  {
   "cell_type": "code",
   "execution_count": 21,
   "metadata": {},
   "outputs": [],
   "source": [
    "train_std = scaler.fit_transform(X_train[std_features])\n",
    "test_std = scaler.transform(X_test[std_features])\n",
    "train_onehot = onehot.fit_transform(X_train[onehot_features])\n",
    "test_onehot = onehot.transform(X_test[onehot_features])"
   ]
  },
  {
   "cell_type": "code",
   "execution_count": 22,
   "metadata": {},
   "outputs": [],
   "source": [
    "X_train_new = scipy.sparse.hstack([train_std, train_onehot])\n",
    "X_test_new = scipy.sparse.hstack([test_std, test_onehot])"
   ]
  },
  {
   "cell_type": "code",
   "execution_count": 36,
   "metadata": {},
   "outputs": [
    {
     "name": "stdout",
     "output_type": "stream",
     "text": [
      "0.14225612192\n",
      "CPU times: user 49.8 s, sys: 3.54 s, total: 53.3 s\n",
      "Wall time: 53.7 s\n"
     ]
    }
   ],
   "source": [
    "%%time\n",
    "lr.fit(X_train_new, y_train)\n",
    "tdf['answer'] = lr.predict_proba(X_test_new)[:, 1]\n",
    "print(np.mean(tdf.answer))\n",
    "write_to_submission_file(tdf['answer'], 'dummy_prediction.csv')"
   ]
  },
  {
   "cell_type": "code",
   "execution_count": 25,
   "metadata": {},
   "outputs": [],
   "source": [
    "def write_to_submission_file(predicted_labels, out_file,\n",
    "                             target='answer', index_label=\"id\"):\n",
    "    predicted_df = pd.DataFrame(predicted_labels,\n",
    "                                index = np.arange(0, predicted_labels.shape[0]),\n",
    "                                columns=[target])\n",
    "    predicted_df.to_csv(out_file, index_label=index_label)"
   ]
  },
  {
   "cell_type": "code",
   "execution_count": 31,
   "metadata": {},
   "outputs": [
    {
     "data": {
      "text/plain": [
       "(1150000, 2)"
      ]
     },
     "execution_count": 31,
     "metadata": {},
     "output_type": "execute_result"
    }
   ],
   "source": [
    "pred.shape"
   ]
  },
  {
   "cell_type": "code",
   "execution_count": 32,
   "metadata": {},
   "outputs": [
    {
     "data": {
      "text/plain": [
       "(1150000, 9)"
      ]
     },
     "execution_count": 32,
     "metadata": {},
     "output_type": "execute_result"
    }
   ],
   "source": [
    "tdf.shape"
   ]
  },
  {
   "cell_type": "code",
   "execution_count": 34,
   "metadata": {},
   "outputs": [],
   "source": [
    "tdf['answer'] = pd.Series(pred[1])"
   ]
  },
  {
   "cell_type": "code",
   "execution_count": 37,
   "metadata": {},
   "outputs": [
    {
     "data": {
      "text/html": [
       "<div>\n",
       "<style>\n",
       "    .dataframe thead tr:only-child th {\n",
       "        text-align: right;\n",
       "    }\n",
       "\n",
       "    .dataframe thead th {\n",
       "        text-align: left;\n",
       "    }\n",
       "\n",
       "    .dataframe tbody tr th {\n",
       "        vertical-align: top;\n",
       "    }\n",
       "</style>\n",
       "<table border=\"1\" class=\"dataframe\">\n",
       "  <thead>\n",
       "    <tr style=\"text-align: right;\">\n",
       "      <th></th>\n",
       "      <th>rank</th>\n",
       "      <th>event_datetime_m</th>\n",
       "      <th>id_show</th>\n",
       "      <th>id_user</th>\n",
       "      <th>dayofweek</th>\n",
       "      <th>hour</th>\n",
       "      <th>month</th>\n",
       "      <th>day</th>\n",
       "      <th>daymonth</th>\n",
       "      <th>answer</th>\n",
       "    </tr>\n",
       "    <tr>\n",
       "      <th>id</th>\n",
       "      <th></th>\n",
       "      <th></th>\n",
       "      <th></th>\n",
       "      <th></th>\n",
       "      <th></th>\n",
       "      <th></th>\n",
       "      <th></th>\n",
       "      <th></th>\n",
       "      <th></th>\n",
       "      <th></th>\n",
       "    </tr>\n",
       "  </thead>\n",
       "  <tbody>\n",
       "    <tr>\n",
       "      <th>0</th>\n",
       "      <td>2</td>\n",
       "      <td>2017-04-12 23:03:00</td>\n",
       "      <td>22286</td>\n",
       "      <td>6235895</td>\n",
       "      <td>3</td>\n",
       "      <td>23</td>\n",
       "      <td>4</td>\n",
       "      <td>12</td>\n",
       "      <td>136</td>\n",
       "      <td>0.251964</td>\n",
       "    </tr>\n",
       "    <tr>\n",
       "      <th>1</th>\n",
       "      <td>4</td>\n",
       "      <td>2017-04-12 21:58:00</td>\n",
       "      <td>22286</td>\n",
       "      <td>6235895</td>\n",
       "      <td>3</td>\n",
       "      <td>21</td>\n",
       "      <td>4</td>\n",
       "      <td>12</td>\n",
       "      <td>136</td>\n",
       "      <td>0.121482</td>\n",
       "    </tr>\n",
       "    <tr>\n",
       "      <th>2</th>\n",
       "      <td>4</td>\n",
       "      <td>2017-04-12 22:02:00</td>\n",
       "      <td>22286</td>\n",
       "      <td>6235895</td>\n",
       "      <td>3</td>\n",
       "      <td>22</td>\n",
       "      <td>4</td>\n",
       "      <td>12</td>\n",
       "      <td>136</td>\n",
       "      <td>0.123076</td>\n",
       "    </tr>\n",
       "    <tr>\n",
       "      <th>3</th>\n",
       "      <td>2</td>\n",
       "      <td>2017-04-12 22:54:00</td>\n",
       "      <td>22286</td>\n",
       "      <td>6235895</td>\n",
       "      <td>3</td>\n",
       "      <td>22</td>\n",
       "      <td>4</td>\n",
       "      <td>12</td>\n",
       "      <td>136</td>\n",
       "      <td>0.246864</td>\n",
       "    </tr>\n",
       "    <tr>\n",
       "      <th>4</th>\n",
       "      <td>3</td>\n",
       "      <td>2017-04-12 22:02:00</td>\n",
       "      <td>15994</td>\n",
       "      <td>6235895</td>\n",
       "      <td>3</td>\n",
       "      <td>22</td>\n",
       "      <td>4</td>\n",
       "      <td>12</td>\n",
       "      <td>136</td>\n",
       "      <td>0.106725</td>\n",
       "    </tr>\n",
       "  </tbody>\n",
       "</table>\n",
       "</div>"
      ],
      "text/plain": [
       "    rank    event_datetime_m  id_show  id_user  dayofweek  hour  month  day  \\\n",
       "id                                                                            \n",
       "0      2 2017-04-12 23:03:00    22286  6235895          3    23      4   12   \n",
       "1      4 2017-04-12 21:58:00    22286  6235895          3    21      4   12   \n",
       "2      4 2017-04-12 22:02:00    22286  6235895          3    22      4   12   \n",
       "3      2 2017-04-12 22:54:00    22286  6235895          3    22      4   12   \n",
       "4      3 2017-04-12 22:02:00    15994  6235895          3    22      4   12   \n",
       "\n",
       "    daymonth    answer  \n",
       "id                      \n",
       "0        136  0.251964  \n",
       "1        136  0.121482  \n",
       "2        136  0.123076  \n",
       "3        136  0.246864  \n",
       "4        136  0.106725  "
      ]
     },
     "execution_count": 37,
     "metadata": {},
     "output_type": "execute_result"
    }
   ],
   "source": [
    "tdf.head()"
   ]
  },
  {
   "cell_type": "code",
   "execution_count": 39,
   "metadata": {},
   "outputs": [
    {
     "data": {
      "text/plain": [
       "count    1.150000e+06\n",
       "mean     1.422561e-01\n",
       "std      1.059934e-01\n",
       "min      3.382310e-04\n",
       "25%      7.256584e-02\n",
       "50%      1.170570e-01\n",
       "75%      1.821577e-01\n",
       "max      9.406108e-01\n",
       "Name: answer, dtype: float64"
      ]
     },
     "execution_count": 39,
     "metadata": {},
     "output_type": "execute_result"
    }
   ],
   "source": [
    "tdf.answer.describe()"
   ]
  },
  {
   "cell_type": "code",
   "execution_count": null,
   "metadata": {},
   "outputs": [],
   "source": []
  }
 ],
 "metadata": {
  "kernelspec": {
   "display_name": "Python 3",
   "language": "python",
   "name": "python3"
  },
  "language_info": {
   "codemirror_mode": {
    "name": "ipython",
    "version": 3
   },
   "file_extension": ".py",
   "mimetype": "text/x-python",
   "name": "python",
   "nbconvert_exporter": "python",
   "pygments_lexer": "ipython3",
   "version": "3.5.2"
  }
 },
 "nbformat": 4,
 "nbformat_minor": 2
}
